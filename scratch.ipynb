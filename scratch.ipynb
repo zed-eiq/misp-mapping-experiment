{
 "cells": [
  {
   "cell_type": "code",
   "outputs": [
    {
     "data": {
      "text/plain": "Event(id=RootModel[Annotated[Union[str, NoneType], FieldInfo(annotation=NoneType, required=False, examples=['12345'], metadata=[MaxLen(max_length=10), _PydanticGeneralMetadata(pattern='^\\\\d+$')])]](root='123'), org_id=RootModel[Annotated[Union[str, NoneType], FieldInfo(annotation=NoneType, required=False, examples=['12345'], metadata=[MaxLen(max_length=10), _PydanticGeneralMetadata(pattern='^\\\\d+$')])]](root='123'), distribution=None, info=None, orgc_id=RootModel[Annotated[Union[str, NoneType], FieldInfo(annotation=NoneType, required=False, examples=['12345'], metadata=[MaxLen(max_length=10), _PydanticGeneralMetadata(pattern='^\\\\d+$')])]](root='123'), uuid=UUID('76e86eaf-275b-4659-86a9-c444567c5641'), date=datetime.datetime(2024, 1, 30, 19, 47, 10, 398135, tzinfo=datetime.timezone.utc), published=None, analysis=None, attribute_count=None, timestamp=None, sharing_group_id=None, proposal_email_lock=None, locked=None, threat_level_id=None, publish_timestamp=None, sighting_timestamp=None, disable_correlation=None, extends_uuid=None, event_creator_email=None)"
     },
     "execution_count": 3,
     "metadata": {},
     "output_type": "execute_result"
    }
   ],
   "source": [
    "from uuid import uuid4\n",
    "from datetime import datetime, date, timezone, timedelta\n",
    "\n",
    "from models.common import MispID\n",
    "from models.events import Event\n",
    "\n",
    "new_event = Event(\n",
    "    id=MispID(\"123\"),\n",
    "    org_id=\"123\",\n",
    "    orgc_id=\"123\",\n",
    "    uuid=uuid4(),\n",
    "    date=datetime.now(timezone.utc) - timedelta(days=1)\n",
    ")\n",
    "\n",
    "new_event"
   ],
   "metadata": {
    "collapsed": false,
    "ExecuteTime": {
     "end_time": "2024-01-31T19:47:10.406825Z",
     "start_time": "2024-01-31T19:47:10.402692Z"
    }
   },
   "id": "774fdd8850fe824b",
   "execution_count": 3
  },
  {
   "cell_type": "code",
   "outputs": [],
   "source": [],
   "metadata": {
    "collapsed": false,
    "ExecuteTime": {
     "end_time": "2024-01-31T19:36:06.927365Z",
     "start_time": "2024-01-31T19:36:06.924900Z"
    }
   },
   "id": "ac2df536cb2ee0c",
   "execution_count": 5
  },
  {
   "cell_type": "code",
   "outputs": [],
   "source": [],
   "metadata": {
    "collapsed": false
   },
   "id": "e488544b4a0660d0"
  }
 ],
 "metadata": {
  "kernelspec": {
   "display_name": "Python 3",
   "language": "python",
   "name": "python3"
  },
  "language_info": {
   "codemirror_mode": {
    "name": "ipython",
    "version": 2
   },
   "file_extension": ".py",
   "mimetype": "text/x-python",
   "name": "python",
   "nbconvert_exporter": "python",
   "pygments_lexer": "ipython2",
   "version": "2.7.6"
  }
 },
 "nbformat": 4,
 "nbformat_minor": 5
}
